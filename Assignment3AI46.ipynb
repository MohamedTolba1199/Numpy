{
 "cells": [
  {
   "cell_type": "markdown",
   "id": "1495006d",
   "metadata": {},
   "source": [
    "# Assignment 3 \n"
   ]
  },
  {
   "cell_type": "markdown",
   "id": "041aaec3",
   "metadata": {},
   "source": [
    "## 1. Write a NumPy program to test whether none of the elements of a given array is zero."
   ]
  },
  {
   "cell_type": "code",
   "execution_count": 1,
   "id": "9328eb10",
   "metadata": {},
   "outputs": [
    {
     "name": "stdout",
     "output_type": "stream",
     "text": [
      "0\n",
      "none zero\n",
      "none zero\n",
      "none zero\n",
      "none zero\n",
      "none zero\n",
      "none zero\n"
     ]
    }
   ],
   "source": [
    "x=[1,2,'a',0,5,\"ali\",50]\n",
    "\n",
    "for i in range(len(x)):\n",
    "    \n",
    "    if i==0:\n",
    "        print (i)\n",
    "        \n",
    "    else:\n",
    "        print(\"none zero\")"
   ]
  },
  {
   "cell_type": "code",
   "execution_count": 2,
   "id": "44103c64",
   "metadata": {},
   "outputs": [
    {
     "name": "stdout",
     "output_type": "stream",
     "text": [
      "Test if none of the elements of the  array is zero:\n",
      "True\n",
      "Test if none of the elements of the  array is zero:\n",
      "False\n"
     ]
    }
   ],
   "source": [
    "import numpy as np\n",
    "x = np.array([1, 2, 3, 4])\n",
    "y=np.array([0,5,6,7])\n",
    "\n",
    "print(\"Test if none of the elements of the  array is zero:\")\n",
    "print(np.all(x))\n",
    "\n",
    "print(\"Test if none of the elements of the  array is zero:\")\n",
    "print(np.all(y))\n",
    "\n"
   ]
  },
  {
   "cell_type": "markdown",
   "id": "92f162fe",
   "metadata": {},
   "source": [
    "## 2. Write a NumPy program to test whether any of the elements of a given array is non-zero.\n"
   ]
  },
  {
   "cell_type": "code",
   "execution_count": 3,
   "id": "74c820c9",
   "metadata": {},
   "outputs": [
    {
     "name": "stdout",
     "output_type": "stream",
     "text": [
      "Test if any of the elements of the  array is zero:\n",
      "True\n",
      "Test if any of the elements of the  array is zero:\n",
      "False\n"
     ]
    }
   ],
   "source": [
    "import numpy as np\n",
    "x = np.array([1, 0, 3, 4])\n",
    "y=np.array([0,0,0,0])\n",
    "\n",
    "out1=np.any(x)\n",
    "out2=np.any(y)\n",
    "\n",
    "print(\"Test if any of the elements of the  array is zero:\")\n",
    "print(out1)\n",
    "\n",
    "print(\"Test if any of the elements of the  array is zero:\")\n",
    "print(out2)"
   ]
  },
  {
   "cell_type": "markdown",
   "id": "095894ee",
   "metadata": {},
   "source": [
    "## 3. Write a NumPy program to create an element-wise comparison (equal, equal within a tolerance) of two given"
   ]
  },
  {
   "cell_type": "code",
   "execution_count": 4,
   "id": "66e1655b",
   "metadata": {},
   "outputs": [
    {
     "name": "stdout",
     "output_type": "stream",
     "text": [
      "Equal Comparison\n",
      "[ True  True  True  True  True  True False]\n",
      "Equal within a tolerance Comparison\n",
      "True\n"
     ]
    }
   ],
   "source": [
    "import numpy as np\n",
    "\n",
    "A=[1,2,3,4,5,6,7]\n",
    "B=[1,2,3,4,5,6,7.00001]\n",
    " \n",
    "print(\"Equal Comparison\")    \n",
    "print(np.equal(A,B))\n",
    "\n",
    "print(\"Equal within a tolerance Comparison\")    \n",
    "print(np.allclose(A,B))"
   ]
  },
  {
   "cell_type": "markdown",
   "id": "b8687b70",
   "metadata": {},
   "source": [
    "## 4. Write a NumPy program to create an array of 10 zeros,10 ones, 10 fives."
   ]
  },
  {
   "cell_type": "code",
   "execution_count": 5,
   "id": "b097a084",
   "metadata": {},
   "outputs": [
    {
     "name": "stdout",
     "output_type": "stream",
     "text": [
      "[0, 0, 0, 0, 0, 0, 0, 0, 0, 0]\n",
      "[1, 1, 1, 1, 1, 1, 1, 1, 1, 1]\n",
      "[5, 5, 5, 5, 5, 5, 5, 5, 5, 5]\n"
     ]
    }
   ],
   "source": [
    "a=[0]\n",
    "b=[1]\n",
    "c=[5]\n",
    "\n",
    "print(a*10)\n",
    "print(b*10)\n",
    "print(c*10)"
   ]
  },
  {
   "cell_type": "code",
   "execution_count": 6,
   "id": "7aa97d89",
   "metadata": {},
   "outputs": [
    {
     "name": "stdout",
     "output_type": "stream",
     "text": [
      "[0. 0. 0. 0. 0. 0. 0. 0. 0. 0.]\n",
      "[1. 1. 1. 1. 1. 1. 1. 1. 1. 1.]\n",
      "[5. 5. 5. 5. 5. 5. 5. 5. 5. 5.]\n"
     ]
    }
   ],
   "source": [
    "import numpy as np\n",
    "\n",
    "a=np.zeros(10)\n",
    "b=np.ones(10)\n",
    "c=np.ones(10)*5\n",
    "print(a)\n",
    "print(b)\n",
    "print(c)"
   ]
  },
  {
   "cell_type": "markdown",
   "id": "e66123b6",
   "metadata": {},
   "source": [
    "## 5. Write a NumPy program to create an array of the integers from 30 to70.\n"
   ]
  },
  {
   "cell_type": "code",
   "execution_count": 7,
   "id": "8b2d8bcf",
   "metadata": {},
   "outputs": [
    {
     "name": "stdout",
     "output_type": "stream",
     "text": [
      "(30, 0)\n",
      "(31, 1)\n",
      "(32, 2)\n",
      "(33, 3)\n",
      "(34, 4)\n",
      "(35, 5)\n",
      "(36, 6)\n",
      "(37, 7)\n",
      "(38, 8)\n",
      "(39, 9)\n",
      "(40, 10)\n",
      "(41, 11)\n",
      "(42, 12)\n",
      "(43, 13)\n",
      "(44, 14)\n",
      "(45, 15)\n",
      "(46, 16)\n",
      "(47, 17)\n",
      "(48, 18)\n",
      "(49, 19)\n",
      "(50, 20)\n",
      "(51, 21)\n",
      "(52, 22)\n",
      "(53, 23)\n",
      "(54, 24)\n",
      "(55, 25)\n",
      "(56, 26)\n",
      "(57, 27)\n",
      "(58, 28)\n",
      "(59, 29)\n",
      "(60, 30)\n",
      "(61, 31)\n",
      "(62, 32)\n",
      "(63, 33)\n",
      "(64, 34)\n",
      "(65, 35)\n",
      "(66, 36)\n",
      "(67, 37)\n",
      "(68, 38)\n",
      "(69, 39)\n",
      "(70, 40)\n"
     ]
    }
   ],
   "source": [
    "for i in enumerate(range(41),30):\n",
    "   \n",
    "    print(i)\n"
   ]
  },
  {
   "cell_type": "code",
   "execution_count": 8,
   "id": "759c9cd2",
   "metadata": {},
   "outputs": [
    {
     "name": "stdout",
     "output_type": "stream",
     "text": [
      "[30 31 32 33 34 35 36 37 38 39 40 41 42 43 44 45 46 47 48 49 50 51 52 53\n",
      " 54 55 56 57 58 59 60 61 62 63 64 65 66 67 68 69 70]\n"
     ]
    }
   ],
   "source": [
    "import numpy as np\n",
    "\n",
    "array=np.arange(30,71)\n",
    "print(array)"
   ]
  },
  {
   "cell_type": "markdown",
   "id": "27592419",
   "metadata": {},
   "source": [
    "## 6. Write a NumPy program to create a 3x3 identity matrix "
   ]
  },
  {
   "cell_type": "code",
   "execution_count": 9,
   "id": "6b7e42bf",
   "metadata": {},
   "outputs": [
    {
     "name": "stdout",
     "output_type": "stream",
     "text": [
      "[[1. 0. 0.]\n",
      " [0. 1. 0.]\n",
      " [0. 0. 1.]]\n"
     ]
    }
   ],
   "source": [
    "import numpy as np\n",
    "\n",
    "i = np.identity(3)\n",
    "print(i)"
   ]
  },
  {
   "cell_type": "markdown",
   "id": "3566d036",
   "metadata": {},
   "source": [
    "## 7. Write a NumPy program to generate a random number between 0 and 1"
   ]
  },
  {
   "cell_type": "code",
   "execution_count": 10,
   "id": "9a8088d6",
   "metadata": {},
   "outputs": [
    {
     "name": "stdout",
     "output_type": "stream",
     "text": [
      "The random number between 0 and 1 is  1.466800307900916\n"
     ]
    }
   ],
   "source": [
    "import numpy as np\n",
    "\n",
    "rand_num = np.random.normal(0,1)\n",
    "print(f\"The random number between 0 and 1 is  {rand_num}\")\n"
   ]
  },
  {
   "cell_type": "markdown",
   "id": "b76cf567",
   "metadata": {},
   "source": [
    "## 8. Write a NumPy program to generate an array of 15 random numbers from a standard normal distribution "
   ]
  },
  {
   "cell_type": "code",
   "execution_count": 11,
   "id": "519c24ac",
   "metadata": {},
   "outputs": [
    {
     "name": "stdout",
     "output_type": "stream",
     "text": [
      "[ 1.44965087 -2.77047804 -0.93316222 -0.73995962 -0.13905509 -1.42802281\n",
      " -1.3808467  -1.42371686 -0.71023149  0.91010177 -0.07457615 -0.87363685\n",
      "  1.40383383  1.38079486 -1.93942276]\n"
     ]
    }
   ],
   "source": [
    "import numpy as np\n",
    "\n",
    "Array = np.random.normal(0,1,15)\n",
    "print(Array)"
   ]
  },
  {
   "cell_type": "markdown",
   "id": "4abd12f0",
   "metadata": {},
   "source": [
    "## 9. Write a NumPy program to create a vector with values ranging from 15 to 55 and print all values except the first and last."
   ]
  },
  {
   "cell_type": "code",
   "execution_count": 12,
   "id": "5a537ffe",
   "metadata": {},
   "outputs": [
    {
     "name": "stdout",
     "output_type": "stream",
     "text": [
      "[16 17 18 19 20 21 22 23 24 25 26 27 28 29 30 31 32 33 34 35 36 37 38 39\n",
      " 40 41 42 43 44 45 46 47 48 49 50 51 52 53 54]\n"
     ]
    }
   ],
   "source": [
    "import numpy as np\n",
    "\n",
    "vector=np.arange(16,55)\n",
    "print(vector)"
   ]
  },
  {
   "cell_type": "code",
   "execution_count": 13,
   "id": "460fe6f5",
   "metadata": {},
   "outputs": [
    {
     "name": "stdout",
     "output_type": "stream",
     "text": [
      "Original vector:\n",
      " [15 16 17 18 19 20 21 22 23 24 25 26 27 28 29 30 31 32 33 34 35 36 37 38\n",
      " 39 40 41 42 43 44 45 46 47 48 49 50 51 52 53 54]\n",
      "--------------------------------------------------\n",
      "All values except the first and last of the said vector:\n",
      " [16 17 18 19 20 21 22 23 24 25 26 27 28 29 30 31 32 33 34 35 36 37 38 39\n",
      " 40 41 42 43 44 45 46 47 48 49 50 51 52 53 54]\n"
     ]
    }
   ],
   "source": [
    "import numpy as np\n",
    "vector = np.arange(15,55)\n",
    "print(f\"Original vector:\\n {vector}\")\n",
    "print(\"--------------------------------------------------\")\n",
    "print(f\"All values except the first and last of the said vector:\\n {vector[1:]}\")\n",
    "\n"
   ]
  },
  {
   "cell_type": "markdown",
   "id": "608da40e",
   "metadata": {},
   "source": [
    "## 10. Write a NumPy program to create a vector of length 5 filled with arbitrary integers from 0 to 10"
   ]
  },
  {
   "cell_type": "code",
   "execution_count": 14,
   "id": "2e5a4643",
   "metadata": {},
   "outputs": [
    {
     "name": "stdout",
     "output_type": "stream",
     "text": [
      "Vector of length 5 filled with arbitrary integers from 0 to 10:\n",
      " [9 6 0 6 5]\n"
     ]
    }
   ],
   "source": [
    "import numpy as np\n",
    "\n",
    "x = np.random.randint(0, 11, 5)\n",
    "print(f\"Vector of length 5 filled with arbitrary integers from 0 to 10:\\n {x}\")\n",
    "\n"
   ]
  },
  {
   "cell_type": "markdown",
   "id": "d2c9a89e",
   "metadata": {},
   "source": [
    "## 11. Write a NumPy program to create a 10x10 matrix, in which the elements on the borders will be equal to 1, and inside 0.\n"
   ]
  },
  {
   "cell_type": "code",
   "execution_count": 15,
   "id": "099120f9",
   "metadata": {
    "scrolled": true
   },
   "outputs": [
    {
     "name": "stdout",
     "output_type": "stream",
     "text": [
      "[[1. 1. 1. 1. 1. 1. 1. 1. 1. 1.]\n",
      " [1. 0. 0. 0. 0. 0. 0. 0. 0. 1.]\n",
      " [1. 0. 0. 0. 0. 0. 0. 0. 0. 1.]\n",
      " [1. 0. 0. 0. 0. 0. 0. 0. 0. 1.]\n",
      " [1. 0. 0. 0. 0. 0. 0. 0. 0. 1.]\n",
      " [1. 0. 0. 0. 0. 0. 0. 0. 0. 1.]\n",
      " [1. 0. 0. 0. 0. 0. 0. 0. 0. 1.]\n",
      " [1. 0. 0. 0. 0. 0. 0. 0. 0. 1.]\n",
      " [1. 0. 0. 0. 0. 0. 0. 0. 0. 1.]\n",
      " [1. 1. 1. 1. 1. 1. 1. 1. 1. 1.]]\n"
     ]
    }
   ],
   "source": [
    "import numpy as np\n",
    "\n",
    "x = np.ones((10, 10))\n",
    "x[1:-1, 1:-1] = 0\n",
    "print(x)"
   ]
  },
  {
   "cell_type": "markdown",
   "id": "7a39b37b",
   "metadata": {},
   "source": [
    "## 12. Write a NumPy program to create a 5x5 zero matrix with elements on the main diagonal equal to 1, 2, 3, 4, 5."
   ]
  },
  {
   "cell_type": "code",
   "execution_count": 16,
   "id": "71c476bd",
   "metadata": {},
   "outputs": [
    {
     "name": "stdout",
     "output_type": "stream",
     "text": [
      "[[1. 0. 0. 0. 0.]\n",
      " [0. 2. 0. 0. 0.]\n",
      " [0. 0. 3. 0. 0.]\n",
      " [0. 0. 0. 4. 0.]\n",
      " [0. 0. 0. 0. 5.]]\n"
     ]
    }
   ],
   "source": [
    "import numpy as np\n",
    "\n",
    "x = np.zeros((5, 5))\n",
    "x[0,0]=1\n",
    "x[1,1]=2\n",
    "x[2,2]=3\n",
    "x[3,3]=4\n",
    "x[4,4]=5\n",
    "\n",
    "print(x)"
   ]
  },
  {
   "cell_type": "markdown",
   "id": "248d0dbb",
   "metadata": {},
   "source": [
    "## 13. Write a NumPy program to create a 4x4 matrix in which 0 and 1 are staggered, with zeros on the main diagona"
   ]
  },
  {
   "cell_type": "code",
   "execution_count": 17,
   "id": "86fc9f8f",
   "metadata": {
    "scrolled": false
   },
   "outputs": [
    {
     "name": "stdout",
     "output_type": "stream",
     "text": [
      "[[0. 1. 0. 1.]\n",
      " [1. 0. 1. 0.]\n",
      " [0. 1. 0. 1.]\n",
      " [1. 0. 1. 0.]]\n"
     ]
    }
   ],
   "source": [
    "import numpy as np\n",
    "\n",
    "x = np.zeros((4, 4))\n",
    "\n",
    "x[::2, 1::2] = 1\n",
    "x[1::2, ::2] = 1\n",
    "\n",
    "print(x)"
   ]
  },
  {
   "cell_type": "markdown",
   "id": "7219e17a",
   "metadata": {},
   "source": [
    "## 14. Write a NumPy program to save two given arrays into a single file in compressed format (.npz format) and load it.\n"
   ]
  },
  {
   "cell_type": "markdown",
   "id": "19a9eb62",
   "metadata": {},
   "source": [
    "## 15. Write a NumPy program to create a one-dimensional array of forty pseudo-randomly generated values. Select"
   ]
  },
  {
   "cell_type": "markdown",
   "id": "bc76a953",
   "metadata": {},
   "source": [
    "## 16. Write a NumPy program to extract all numbers from a given array which are less and greater than a specified number"
   ]
  }
 ],
 "metadata": {
  "kernelspec": {
   "display_name": "Python 3 (ipykernel)",
   "language": "python",
   "name": "python3"
  },
  "language_info": {
   "codemirror_mode": {
    "name": "ipython",
    "version": 3
   },
   "file_extension": ".py",
   "mimetype": "text/x-python",
   "name": "python",
   "nbconvert_exporter": "python",
   "pygments_lexer": "ipython3",
   "version": "3.9.7"
  }
 },
 "nbformat": 4,
 "nbformat_minor": 5
}
